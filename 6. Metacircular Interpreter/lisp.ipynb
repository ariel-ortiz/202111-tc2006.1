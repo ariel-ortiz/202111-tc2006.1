{
 "cells": [
  {
   "cell_type": "markdown",
   "metadata": {},
   "source": [
    "# Lisp Metacircular Interpreter"
   ]
  },
  {
   "cell_type": "code",
   "execution_count": 1,
   "metadata": {},
   "outputs": [
    {
     "data": {
      "text/plain": [
       "nil"
      ]
     },
     "execution_count": 1,
     "metadata": {},
     "output_type": "execute_result"
    }
   ],
   "source": [
    "(require '[clojure.test :refer [is]])"
   ]
  },
  {
   "cell_type": "markdown",
   "metadata": {},
   "source": [
    "## Closure Data Structure"
   ]
  },
  {
   "cell_type": "code",
   "execution_count": 2,
   "metadata": {},
   "outputs": [
    {
     "data": {
      "text/plain": [
       "#'user/set-closure-env!"
      ]
     },
     "execution_count": 2,
     "metadata": {},
     "output_type": "execute_result"
    }
   ],
   "source": [
    "(import 'clojure.lang.IFn)\n",
    "\n",
    "(declare $eval)\n",
    "\n",
    "(defrecord Closure [env params body]\n",
    "  \n",
    "  IFn\n",
    "  \n",
    "  (applyTo [self args]\n",
    "    (let [extended-env (merge @env (zipmap params args))]\n",
    "      ($eval body extended-env))))\n",
    "\n",
    "(defn make-closure\n",
    "  [env params body]\n",
    "  (->Closure (atom env) params body))\n",
    "\n",
    "(defn set-closure-env!\n",
    "  [label-name closure]\n",
    "  (swap! (:env closure)\n",
    "         #(assoc % label-name closure)))"
   ]
  },
  {
   "cell_type": "markdown",
   "metadata": {},
   "source": [
    "## Main Interpreter Function\n",
    "\n",
    "### Special Forms in our Lisp Interpreter\n",
    "\n",
    "- QUOTE: `(QUOTE datum)`\n",
    "- IF: `(IF condition then-part else-part)`\n",
    "- LAMBDA: `(LAMBDA (param1 param2 ...) body)`\n",
    "- LABEL: `(LABEL name expr)`"
   ]
  },
  {
   "cell_type": "code",
   "execution_count": 3,
   "metadata": {},
   "outputs": [
    {
     "data": {
      "text/plain": [
       "#'user/$eval"
      ]
     },
     "execution_count": 3,
     "metadata": {},
     "output_type": "execute_result"
    }
   ],
   "source": [
    "(defn $eval\n",
    "  [expr env]\n",
    "  \n",
    "  (cond\n",
    "    \n",
    "    ; Check for variable reference\n",
    "    (symbol? expr)\n",
    "    (if (contains? env expr)\n",
    "      (env expr)\n",
    "      (throw (RuntimeException. (str \"Unbound variable: \" expr))))\n",
    "    \n",
    "    ; Check for special forms\n",
    "    (list? expr)\n",
    "    (case (first expr)\n",
    "      \n",
    "      nil\n",
    "      ()\n",
    "      \n",
    "      QUOTE\n",
    "      (second expr)\n",
    "      \n",
    "      IF\n",
    "      (let [[_ condition then-part else-part] expr]\n",
    "        (if ($eval condition env)\n",
    "          ($eval then-part env)\n",
    "          ($eval else-part env)))\n",
    "      \n",
    "      LAMBDA\n",
    "      (let [[_ params body] expr]\n",
    "        (make-closure env params body))\n",
    "      \n",
    "      LABEL\n",
    "      (let [[_ label-name label-expr] expr\n",
    "            closure ($eval label-expr env)]\n",
    "        (set-closure-env! label-name closure)\n",
    "        closure)\n",
    "      \n",
    "      ; Ordinary function application\n",
    "      (let [[fun & args] (map #($eval % env) expr)]\n",
    "        (apply fun args)))\n",
    "    \n",
    "    ; Anything that is not symbol or a list evals to itself\n",
    "    :else\n",
    "    expr))"
   ]
  },
  {
   "cell_type": "code",
   "execution_count": 4,
   "metadata": {},
   "outputs": [
    {
     "data": {
      "text/plain": [
       "true"
      ]
     },
     "execution_count": 4,
     "metadata": {},
     "output_type": "execute_result"
    }
   ],
   "source": [
    "(is (= 42 ($eval 'X '{W 5, X 42})))\n",
    "(try\n",
    "  ($eval 'Y '{W 5, X 42})\n",
    "  (is false)\n",
    "  (catch RuntimeException e (is true)))\n",
    "(is (= 42 ($eval 42 {})))\n",
    "(is (= true ($eval true ($eval true {}))))\n",
    "(is (= \"hello\" ($eval \"hello\" ($eval true {}))))"
   ]
  },
  {
   "cell_type": "code",
   "execution_count": 5,
   "metadata": {},
   "outputs": [
    {
     "data": {
      "text/plain": [
       "true"
      ]
     },
     "execution_count": 5,
     "metadata": {},
     "output_type": "execute_result"
    }
   ],
   "source": [
    "(is (= () ($eval () {})))\n",
    "(is (= '(1 2 3) ($eval '(QUOTE (1 2 3)) {})))\n",
    "(is (= 'X ($eval '(QUOTE X) {})))"
   ]
  },
  {
   "cell_type": "code",
   "execution_count": 6,
   "metadata": {},
   "outputs": [
    {
     "data": {
      "text/plain": [
       "true"
      ]
     },
     "execution_count": 6,
     "metadata": {},
     "output_type": "execute_result"
    }
   ],
   "source": [
    "(is (= 2 ($eval '(IF 1 2 3) {})))\n",
    "(is (= 3 ($eval '(IF false 2 3) {})))\n",
    "(is (= 15 ($eval '(IF A B C) '{A 7, B 15, C 42})))\n",
    "(is (= 42 ($eval '(IF A B C) '{A false, B 15, C 42})))"
   ]
  },
  {
   "cell_type": "code",
   "execution_count": 7,
   "metadata": {},
   "outputs": [
    {
     "data": {
      "text/plain": [
       "true"
      ]
     },
     "execution_count": 7,
     "metadata": {},
     "output_type": "execute_result"
    }
   ],
   "source": [
    "(is (= 6 ($eval '(PLUS 1 2 3) {'PLUS +})))\n",
    "(is (= 28 ($eval '(TIMES (PLUS 2 2) (MINUS 10 3)) {'PLUS +, 'TIMES *, 'MINUS -})))\n",
    "(is (= 28 ($eval '(* (+ 2 2) (- 10 3)) {'+ +, '* *, '- -})))\n",
    "(is (= 0 ($eval '(+) {'+ +})))\n",
    "(is (= '(nil) ($eval '(f nil) {'f list})))"
   ]
  },
  {
   "cell_type": "code",
   "execution_count": 8,
   "metadata": {},
   "outputs": [
    {
     "data": {
      "text/plain": [
       "true"
      ]
     },
     "execution_count": 8,
     "metadata": {},
     "output_type": "execute_result"
    }
   ],
   "source": [
    "(is (= 6 ($eval '((LAMBDA (X) (+ X 1)) 5) {'+ +})))\n",
    "(is (= 15($eval '((LAMBDA (X Y)\n",
    "                    (* X (+ Y 1)))\n",
    "                  3\n",
    "                  4)\n",
    "                {'+ +, '* *})))\n",
    "(is (= 42 ($eval '((LAMBDA () 42)) {})))\n",
    "(is (= 8 ($eval '(((LAMBDA (X)\n",
    "                     (LAMBDA (Y) \n",
    "                       (+ X Y)))\n",
    "                   5)\n",
    "                  3)\n",
    "                {'+ +})))\n",
    "(is (= 8 ($eval '((LAMBDA (F X) \n",
    "                    (F (F (F X))))\n",
    "                  (LAMBDA (X) (* X 2))\n",
    "                  1)\n",
    "                {'* *})))"
   ]
  },
  {
   "cell_type": "code",
   "execution_count": 9,
   "metadata": {},
   "outputs": [
    {
     "data": {
      "text/plain": [
       "true"
      ]
     },
     "execution_count": 9,
     "metadata": {},
     "output_type": "execute_result"
    }
   ],
   "source": [
    "(is (= '(A A B B C C D D) \n",
    "       ($eval '((LABEL DUP (LAMBDA (X)\n",
    "                             (IF (NULL? X)\n",
    "                               ()\n",
    "                               (CONS (CAR X)\n",
    "                                     (CONS (CAR X)\n",
    "                                           (DUP (CDR X)))))))\n",
    "                (QUOTE (A B C D)))\n",
    "              {'NULL? empty?\n",
    "               'CONS cons\n",
    "               'CAR first\n",
    "               'CDR rest})))\n",
    "(is (= 120 ($eval '((LABEL FACT (LAMBDA (N)\n",
    "                                  (IF (ZERO? N)\n",
    "                                    1\n",
    "                                    (* N (FACT (- N 1))))))\n",
    "                    5)\n",
    "                  {'* *\n",
    "                   'ZERO? zero?\n",
    "                   '- -})))"
   ]
  }
 ],
 "metadata": {
  "kernelspec": {
   "display_name": "Clojure (clojupyter=0.3.2=1)",
   "language": "clojure",
   "name": "conda-clojupyter"
  },
  "language_info": {
   "file_extension": ".clj",
   "mimetype": "text/x-clojure",
   "name": "clojure",
   "version": "1.10.1"
  }
 },
 "nbformat": 4,
 "nbformat_minor": 4
}
