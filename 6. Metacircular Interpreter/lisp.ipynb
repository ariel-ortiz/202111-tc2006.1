{
 "cells": [
  {
   "cell_type": "markdown",
   "metadata": {},
   "source": [
    "# Lisp Metacircular Interpreter"
   ]
  },
  {
   "cell_type": "code",
   "execution_count": 1,
   "metadata": {},
   "outputs": [
    {
     "data": {
      "text/plain": [
       "nil"
      ]
     },
     "execution_count": 1,
     "metadata": {},
     "output_type": "execute_result"
    }
   ],
   "source": [
    "(require '[clojure.test :refer [is]])"
   ]
  },
  {
   "cell_type": "markdown",
   "metadata": {},
   "source": [
    "## Closure Data Structure"
   ]
  },
  {
   "cell_type": "code",
   "execution_count": 2,
   "metadata": {},
   "outputs": [
    {
     "data": {
      "text/plain": [
       "user.Closure"
      ]
     },
     "execution_count": 2,
     "metadata": {},
     "output_type": "execute_result"
    }
   ],
   "source": [
    "(import 'clojure.lang.IFn)\n",
    "\n",
    "(defrecord Closure [env params body])"
   ]
  },
  {
   "cell_type": "markdown",
   "metadata": {},
   "source": [
    "## Main Interpreter Function\n",
    "\n",
    "### Special Forms in our Lisp Interpreter\n",
    "\n",
    "- QUOTE: `(QUOTE datum)`\n",
    "- IF: `(IF condition then-part else-part)`\n",
    "- LAMBDA: `(LAMBDA (param1 param2 ...) body)`\n",
    "- LABEL: `(LABEL name expr)`"
   ]
  },
  {
   "cell_type": "code",
   "execution_count": 3,
   "metadata": {},
   "outputs": [
    {
     "data": {
      "text/plain": [
       "#'user/$eval"
      ]
     },
     "execution_count": 3,
     "metadata": {},
     "output_type": "execute_result"
    }
   ],
   "source": [
    "(defn $eval\n",
    "  [expr env]\n",
    "  \n",
    "  (cond\n",
    "    \n",
    "    ; Check for variable reference\n",
    "    (symbol? expr)\n",
    "    (if (contains? env expr)\n",
    "      (env expr)\n",
    "      (throw (RuntimeException. (str \"Unbound variable: \" expr))))\n",
    "    \n",
    "    ; Check for special forms\n",
    "    (list? expr)\n",
    "    (case (first expr)\n",
    "      \n",
    "      nil\n",
    "      ()\n",
    "      \n",
    "      QUOTE\n",
    "      (second expr)\n",
    "      \n",
    "      IF\n",
    "      (let [[_ condition then-part else-part] expr]\n",
    "        (if ($eval condition env)\n",
    "          ($eval then-part env)\n",
    "          ($eval else-part env)))\n",
    "      \n",
    "      LAMBDA\n",
    "      \n",
    "      ; Ordinary function application\n",
    "      (let [[fun & args] (map #($eval % env) expr)]\n",
    "        (apply fun args)))\n",
    "    \n",
    "    ; Anything that is not symbol or a list evals to itself\n",
    "    :else\n",
    "    expr))"
   ]
  },
  {
   "cell_type": "code",
   "execution_count": 4,
   "metadata": {},
   "outputs": [
    {
     "data": {
      "text/plain": [
       "true"
      ]
     },
     "execution_count": 4,
     "metadata": {},
     "output_type": "execute_result"
    }
   ],
   "source": [
    "(is (= 42 ($eval 'X '{W 5, X 42})))\n",
    "(try\n",
    "  ($eval 'Y '{W 5, X 42})\n",
    "  (is false)\n",
    "  (catch RuntimeException e (is true)))\n",
    "(is (= 42 ($eval 42 {})))\n",
    "(is (= true ($eval true ($eval true {}))))\n",
    "(is (= \"hello\" ($eval \"hello\" ($eval true {}))))"
   ]
  },
  {
   "cell_type": "code",
   "execution_count": 5,
   "metadata": {},
   "outputs": [
    {
     "data": {
      "text/plain": [
       "true"
      ]
     },
     "execution_count": 5,
     "metadata": {},
     "output_type": "execute_result"
    }
   ],
   "source": [
    "(is (= () ($eval () {})))\n",
    "(is (= '(1 2 3) ($eval '(QUOTE (1 2 3)) {})))\n",
    "(is (= 'X ($eval '(QUOTE X) {})))"
   ]
  },
  {
   "cell_type": "code",
   "execution_count": 6,
   "metadata": {},
   "outputs": [
    {
     "data": {
      "text/plain": [
       "true"
      ]
     },
     "execution_count": 6,
     "metadata": {},
     "output_type": "execute_result"
    }
   ],
   "source": [
    "(is (= 2 ($eval '(IF 1 2 3) {})))\n",
    "(is (= 3 ($eval '(IF false 2 3) {})))\n",
    "(is (= 15 ($eval '(IF A B C) '{A 7, B 15, C 42})))\n",
    "(is (= 42 ($eval '(IF A B C) '{A false, B 15, C 42})))"
   ]
  },
  {
   "cell_type": "code",
   "execution_count": 7,
   "metadata": {},
   "outputs": [
    {
     "name": "stdout",
     "output_type": "stream",
     "text": [
      "\n",
      "ERROR in () (NO_SOURCE_FILE:14)\n",
      "expected: (= 6 ($eval (quote (PLUS 1 2 3)) {(quote PLUS) +}))\n",
      "  actual: java.lang.IllegalArgumentException: No matching clause: PLUS\n",
      " at user$$eval.invokeStatic (NO_SOURCE_FILE:14)\n",
      "    user$$eval.invoke (NO_SOURCE_FILE:1)\n",
      "    user$eval4189.invokeStatic (NO_SOURCE_FILE:1)\n",
      "    user$eval4189.invoke (NO_SOURCE_FILE:1)\n",
      "    clojure.lang.Compiler.eval (Compiler.java:7177)\n",
      "    clojure.lang.Compiler.eval (Compiler.java:7132)\n",
      "    clojure.core$eval.invokeStatic (core.clj:3214)\n",
      "    clojure.core$eval.invoke (core.clj:3210)\n",
      "    clojure.main$repl$read_eval_print__9086$fn__9089.invoke (main.clj:437)\n",
      "    clojure.main$repl$read_eval_print__9086.invoke (main.clj:437)\n",
      "    clojure.main$repl$fn__9095.invoke (main.clj:458)\n",
      "    clojure.main$repl.invokeStatic (main.clj:458)\n",
      "    clojure.main$repl.doInvoke (main.clj:368)\n",
      "    clojure.lang.RestFn.invoke (RestFn.java:1523)\n",
      "    nrepl.middleware.interruptible_eval$evaluate.invokeStatic (interruptible_eval.clj:79)\n",
      "    nrepl.middleware.interruptible_eval$evaluate.invoke (interruptible_eval.clj:55)\n",
      "    nrepl.middleware.interruptible_eval$interruptible_eval$fn__25331$fn__25335.invoke (interruptible_eval.clj:142)\n",
      "    clojure.lang.AFn.run (AFn.java:22)\n",
      "    nrepl.middleware.session$session_exec$main_loop__25412$fn__25416.invoke (session.clj:171)\n",
      "    nrepl.middleware.session$session_exec$main_loop__25412.invoke (session.clj:170)\n",
      "    clojure.lang.AFn.run (AFn.java:22)\n",
      "    java.lang.Thread.run (Thread.java:745)\n",
      "\n",
      "ERROR in () (NO_SOURCE_FILE:14)\n",
      "expected: (= 28 ($eval (quote (TIMES (PLUS 2 2) (MINUS 10 3))) {(quote PLUS) +, (quote TIMES) *, (quote MINUS) -}))\n",
      "  actual: java.lang.IllegalArgumentException: No matching clause: TIMES\n",
      " at user$$eval.invokeStatic (NO_SOURCE_FILE:14)\n",
      "    user$$eval.invoke (NO_SOURCE_FILE:1)\n",
      "    user$eval4193.invokeStatic (NO_SOURCE_FILE:2)\n",
      "    user$eval4193.invoke (NO_SOURCE_FILE:2)\n",
      "    clojure.lang.Compiler.eval (Compiler.java:7177)\n",
      "    clojure.lang.Compiler.eval (Compiler.java:7132)\n",
      "    clojure.core$eval.invokeStatic (core.clj:3214)\n",
      "    clojure.core$eval.invoke (core.clj:3210)\n",
      "    clojure.main$repl$read_eval_print__9086$fn__9089.invoke (main.clj:437)\n",
      "    clojure.main$repl$read_eval_print__9086.invoke (main.clj:437)\n",
      "    clojure.main$repl$fn__9095.invoke (main.clj:458)\n",
      "    clojure.main$repl.invokeStatic (main.clj:458)\n",
      "    clojure.main$repl.doInvoke (main.clj:368)\n",
      "    clojure.lang.RestFn.invoke (RestFn.java:1523)\n",
      "    nrepl.middleware.interruptible_eval$evaluate.invokeStatic (interruptible_eval.clj:79)\n",
      "    nrepl.middleware.interruptible_eval$evaluate.invoke (interruptible_eval.clj:55)\n",
      "    nrepl.middleware.interruptible_eval$interruptible_eval$fn__25331$fn__25335.invoke (interruptible_eval.clj:142)\n",
      "    clojure.lang.AFn.run (AFn.java:22)\n",
      "    nrepl.middleware.session$session_exec$main_loop__25412$fn__25416.invoke (session.clj:171)\n",
      "    nrepl.middleware.session$session_exec$main_loop__25412.invoke (session.clj:170)\n",
      "    clojure.lang.AFn.run (AFn.java:22)\n",
      "    java.lang.Thread.run (Thread.java:745)\n",
      "\n",
      "ERROR in () (NO_SOURCE_FILE:14)\n",
      "expected: (= 28 ($eval (quote (* (+ 2 2) (- 10 3))) {(quote +) +, (quote *) *, (quote -) -}))\n",
      "  actual: java.lang.IllegalArgumentException: No matching clause: *\n",
      " at user$$eval.invokeStatic (NO_SOURCE_FILE:14)\n",
      "    user$$eval.invoke (NO_SOURCE_FILE:1)\n",
      "    user$eval4197.invokeStatic (NO_SOURCE_FILE:3)\n",
      "    user$eval4197.invoke (NO_SOURCE_FILE:3)\n",
      "    clojure.lang.Compiler.eval (Compiler.java:7177)\n",
      "    clojure.lang.Compiler.eval (Compiler.java:7132)\n",
      "    clojure.core$eval.invokeStatic (core.clj:3214)\n",
      "    clojure.core$eval.invoke (core.clj:3210)\n",
      "    clojure.main$repl$read_eval_print__9086$fn__9089.invoke (main.clj:437)\n",
      "    clojure.main$repl$read_eval_print__9086.invoke (main.clj:437)\n",
      "    clojure.main$repl$fn__9095.invoke (main.clj:458)\n",
      "    clojure.main$repl.invokeStatic (main.clj:458)\n",
      "    clojure.main$repl.doInvoke (main.clj:368)\n",
      "    clojure.lang.RestFn.invoke (RestFn.java:1523)\n",
      "    nrepl.middleware.interruptible_eval$evaluate.invokeStatic (interruptible_eval.clj:79)\n",
      "    nrepl.middleware.interruptible_eval$evaluate.invoke (interruptible_eval.clj:55)\n",
      "    nrepl.middleware.interruptible_eval$interruptible_eval$fn__25331$fn__25335.invoke (interruptible_eval.clj:142)\n",
      "    clojure.lang.AFn.run (AFn.java:22)\n",
      "    nrepl.middleware.session$session_exec$main_loop__25412$fn__25416.invoke (session.clj:171)\n",
      "    nrepl.middleware.session$session_exec$main_loop__25412.invoke (session.clj:170)\n",
      "    clojure.lang.AFn.run (AFn.java:22)\n",
      "    java.lang.Thread.run (Thread.java:745)\n",
      "\n",
      "ERROR in () (NO_SOURCE_FILE:14)\n",
      "expected: (= 0 ($eval (quote (+)) {(quote +) +}))\n",
      "  actual: java.lang.IllegalArgumentException: No matching clause: +\n",
      " at user$$eval.invokeStatic (NO_SOURCE_FILE:14)\n",
      "    user$$eval.invoke (NO_SOURCE_FILE:1)\n",
      "    user$eval4201.invokeStatic (NO_SOURCE_FILE:4)\n",
      "    user$eval4201.invoke (NO_SOURCE_FILE:4)\n",
      "    clojure.lang.Compiler.eval (Compiler.java:7177)\n",
      "    clojure.lang.Compiler.eval (Compiler.java:7132)\n",
      "    clojure.core$eval.invokeStatic (core.clj:3214)\n",
      "    clojure.core$eval.invoke (core.clj:3210)\n",
      "    clojure.main$repl$read_eval_print__9086$fn__9089.invoke (main.clj:437)\n",
      "    clojure.main$repl$read_eval_print__9086.invoke (main.clj:437)\n",
      "    clojure.main$repl$fn__9095.invoke (main.clj:458)\n",
      "    clojure.main$repl.invokeStatic (main.clj:458)\n",
      "    clojure.main$repl.doInvoke (main.clj:368)\n",
      "    clojure.lang.RestFn.invoke (RestFn.java:1523)\n",
      "    nrepl.middleware.interruptible_eval$evaluate.invokeStatic (interruptible_eval.clj:79)\n",
      "    nrepl.middleware.interruptible_eval$evaluate.invoke (interruptible_eval.clj:55)\n",
      "    nrepl.middleware.interruptible_eval$interruptible_eval$fn__25331$fn__25335.invoke (interruptible_eval.clj:142)\n",
      "    clojure.lang.AFn.run (AFn.java:22)\n",
      "    nrepl.middleware.session$session_exec$main_loop__25412$fn__25416.invoke (session.clj:171)\n",
      "    nrepl.middleware.session$session_exec$main_loop__25412.invoke (session.clj:170)\n",
      "    clojure.lang.AFn.run (AFn.java:22)\n",
      "    java.lang.Thread.run (Thread.java:745)\n",
      "\n",
      "ERROR in () (NO_SOURCE_FILE:14)\n",
      "expected: (= (quote (nil)) ($eval (quote (f nil)) {(quote f) list}))\n",
      "  actual: java.lang.IllegalArgumentException: No matching clause: f\n",
      " at user$$eval.invokeStatic (NO_SOURCE_FILE:14)\n",
      "    user$$eval.invoke (NO_SOURCE_FILE:1)\n",
      "    user$eval4205.invokeStatic (NO_SOURCE_FILE:5)\n",
      "    user$eval4205.invoke (NO_SOURCE_FILE:5)\n",
      "    clojure.lang.Compiler.eval (Compiler.java:7177)\n",
      "    clojure.lang.Compiler.eval (Compiler.java:7132)\n",
      "    clojure.core$eval.invokeStatic (core.clj:3214)\n",
      "    clojure.core$eval.invoke (core.clj:3210)\n",
      "    clojure.main$repl$read_eval_print__9086$fn__9089.invoke (main.clj:437)\n",
      "    clojure.main$repl$read_eval_print__9086.invoke (main.clj:437)\n",
      "    clojure.main$repl$fn__9095.invoke (main.clj:458)\n",
      "    clojure.main$repl.invokeStatic (main.clj:458)\n",
      "    clojure.main$repl.doInvoke (main.clj:368)\n",
      "    clojure.lang.RestFn.invoke (RestFn.java:1523)\n",
      "    nrepl.middleware.interruptible_eval$evaluate.invokeStatic (interruptible_eval.clj:79)\n",
      "    nrepl.middleware.interruptible_eval$evaluate.invoke (interruptible_eval.clj:55)\n",
      "    nrepl.middleware.interruptible_eval$interruptible_eval$fn__25331$fn__25335.invoke (interruptible_eval.clj:142)\n",
      "    clojure.lang.AFn.run (AFn.java:22)\n",
      "    nrepl.middleware.session$session_exec$main_loop__25412$fn__25416.invoke (session.clj:171)\n",
      "    nrepl.middleware.session$session_exec$main_loop__25412.invoke (session.clj:170)\n",
      "    clojure.lang.AFn.run (AFn.java:22)\n",
      "    java.lang.Thread.run (Thread.java:745)\n"
     ]
    },
    {
     "data": {
      "text/plain": [
       "nil"
      ]
     },
     "execution_count": 7,
     "metadata": {},
     "output_type": "execute_result"
    }
   ],
   "source": [
    "(is (= 6 ($eval '(PLUS 1 2 3) {'PLUS +})))\n",
    "(is (= 28 ($eval '(TIMES (PLUS 2 2) (MINUS 10 3)) {'PLUS +, 'TIMES *, 'MINUS -})))\n",
    "(is (= 28 ($eval '(* (+ 2 2) (- 10 3)) {'+ +, '* *, '- -})))\n",
    "(is (= 0 ($eval '(+) {'+ +})))\n",
    "(is (= '(nil) ($eval '(f nil) {'f list})))"
   ]
  },
  {
   "cell_type": "code",
   "execution_count": null,
   "metadata": {},
   "outputs": [],
   "source": []
  }
 ],
 "metadata": {
  "kernelspec": {
   "display_name": "Clojure (clojupyter=0.3.2=1)",
   "language": "clojure",
   "name": "conda-clojupyter"
  },
  "language_info": {
   "file_extension": ".clj",
   "mimetype": "text/x-clojure",
   "name": "clojure",
   "version": "1.10.1"
  }
 },
 "nbformat": 4,
 "nbformat_minor": 4
}
