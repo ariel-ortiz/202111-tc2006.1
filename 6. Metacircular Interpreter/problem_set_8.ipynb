{
 "cells": [
  {
   "cell_type": "markdown",
   "metadata": {},
   "source": [
    "# Problem Set #8\n",
    "\n",
    "## Tc2006 Programming Languages\n",
    "\n",
    "April 26, 2021.\n",
    "\n",
    "_Authors of this notebook’s solution:_\n",
    "\n",
    "- _Student ID and Name:_\n",
    "- _Student ID and Name:_\n",
    "- _Student ID and Name:_\n",
    "\n",
    "**Instructions:**  Modify the Lisp metacircular evaluator code built in class in order to solve the following problems. Make sure all the unit tests are passed."
   ]
  },
  {
   "cell_type": "code",
   "execution_count": 1,
   "metadata": {},
   "outputs": [
    {
     "data": {
      "text/plain": [
       "nil"
      ]
     },
     "execution_count": 1,
     "metadata": {},
     "output_type": "execute_result"
    }
   ],
   "source": [
    ";; External function required for this notebook.\n",
    "(require '[clojure.test :refer [is]])"
   ]
  },
  {
   "cell_type": "markdown",
   "metadata": {},
   "source": [
    "## Main Interpreter Code"
   ]
  },
  {
   "cell_type": "code",
   "execution_count": 2,
   "metadata": {},
   "outputs": [
    {
     "data": {
      "text/plain": [
       "#'user/$eval"
      ]
     },
     "execution_count": 2,
     "metadata": {},
     "output_type": "execute_result"
    }
   ],
   "source": [
    "(import 'clojure.lang.IFn)\n",
    "\n",
    "(declare $eval)\n",
    "\n",
    "(defrecord Closure [env params body]\n",
    "  IFn ; Implement the clojure.lang.IFn interface\n",
    "  (applyTo [self args]\n",
    "    (let [extended-env (merge @env (zipmap params args))]\n",
    "      ($eval body extended-env))))\n",
    "\n",
    "(defn make-closure\n",
    "  [env params body]\n",
    "  (->Closure (atom env) params body))\n",
    "\n",
    "(defn set-closure-env!\n",
    "  [label-name closure]\n",
    "  (swap! (:env closure)\n",
    "         #(assoc % label-name closure)))\n",
    "\n",
    "(defn $eval\n",
    "  [expr env]\n",
    "  \n",
    "  (cond\n",
    "    \n",
    "    ; Check for variable reference\n",
    "    (symbol? expr)\n",
    "    (if (contains? env expr)\n",
    "      (env expr)\n",
    "      (throw (RuntimeException. (str \"Unbound variable: \" expr))))\n",
    "    \n",
    "    ; Check for special forms\n",
    "    (list? expr)\n",
    "    (case (first expr)\n",
    "      \n",
    "      nil\n",
    "      ()\n",
    "      \n",
    "      QUOTE\n",
    "      (second expr)\n",
    "      \n",
    "      IF\n",
    "      (let [[_ condition then-part else-part] expr]\n",
    "        (if ($eval condition env)\n",
    "          ($eval then-part env)\n",
    "          ($eval else-part env)))\n",
    "      \n",
    "      LAMBDA\n",
    "      (let [[_ params body] expr]\n",
    "        (make-closure env params body))\n",
    "      \n",
    "      LABEL\n",
    "      (let [[_ label-name label-expr] expr\n",
    "            closure ($eval label-expr env)]\n",
    "        (set-closure-env! label-name closure)\n",
    "        closure)\n",
    "      \n",
    "      DO\n",
    "      (if-let [args (next expr)]\n",
    "        (loop [args args]\n",
    "          (let [result ($eval (first args) env)]\n",
    "            (if (= 1 (count args))\n",
    "              result\n",
    "              (recur (next args)))))\n",
    "        nil)\n",
    "      \n",
    "      LET\n",
    "      ;(let [[_ [var-name var-expr] body] expr]\n",
    "      ;  ($eval body\n",
    "      ;         (assoc env var-name ($eval var-expr env))))\n",
    "      (let [[_ [var-name var-expr] body] expr]\n",
    "        ($eval (list (list 'LAMBDA (list var-name) body) var-expr) env))\n",
    "      \n",
    "      ; Ordinary function application\n",
    "      (let [[fun & args] (map #($eval % env) expr)]\n",
    "        (apply fun args)))\n",
    "    \n",
    "    ; Anything that is not symbol or a list evals to itself\n",
    "    :else\n",
    "    expr))"
   ]
  },
  {
   "cell_type": "markdown",
   "metadata": {},
   "source": [
    "## Unit Tests for the Main Interpreter"
   ]
  },
  {
   "cell_type": "code",
   "execution_count": 3,
   "metadata": {},
   "outputs": [
    {
     "data": {
      "text/plain": [
       "true"
      ]
     },
     "execution_count": 3,
     "metadata": {},
     "output_type": "execute_result"
    }
   ],
   "source": [
    ";;; Unit tests for variable references\n",
    "(is (= 42 ($eval 'X '{W 5, X 42})))\n",
    "(try\n",
    "  ($eval 'Y '{W 5, X 42})\n",
    "  (is false)\n",
    "  (catch RuntimeException e (is true)))"
   ]
  },
  {
   "cell_type": "code",
   "execution_count": 4,
   "metadata": {},
   "outputs": [
    {
     "data": {
      "text/plain": [
       "true"
      ]
     },
     "execution_count": 4,
     "metadata": {},
     "output_type": "execute_result"
    }
   ],
   "source": [
    ";;; Unit tests for anynthing not a symbol nor list\n",
    "(is (= 42 ($eval 42 {})))\n",
    "(is (= true ($eval true ($eval true {}))))\n",
    "(is (= \"hello\" ($eval \"hello\" ($eval true {}))))"
   ]
  },
  {
   "cell_type": "code",
   "execution_count": 5,
   "metadata": {},
   "outputs": [
    {
     "data": {
      "text/plain": [
       "true"
      ]
     },
     "execution_count": 5,
     "metadata": {},
     "output_type": "execute_result"
    }
   ],
   "source": [
    ";;; Unit tests for special form QUOTE\n",
    "(is (= () ($eval () {})))\n",
    "(is (= '(1 2 3) ($eval '(QUOTE (1 2 3)) {})))\n",
    "(is (= 'X ($eval '(QUOTE X) {})))"
   ]
  },
  {
   "cell_type": "code",
   "execution_count": 6,
   "metadata": {},
   "outputs": [
    {
     "data": {
      "text/plain": [
       "true"
      ]
     },
     "execution_count": 6,
     "metadata": {},
     "output_type": "execute_result"
    }
   ],
   "source": [
    ";;; Unit tests for special form IF\n",
    "(is (= 2 ($eval '(IF 1 2 3) {})))\n",
    "(is (= 3 ($eval '(IF false 2 3) {})))\n",
    "(is (= 15 ($eval '(IF A B C) '{A 7, B 15, C 42})))\n",
    "(is (= 42 ($eval '(IF A B C) '{A false, B 15, C 42})))"
   ]
  },
  {
   "cell_type": "code",
   "execution_count": 7,
   "metadata": {},
   "outputs": [
    {
     "data": {
      "text/plain": [
       "true"
      ]
     },
     "execution_count": 7,
     "metadata": {},
     "output_type": "execute_result"
    }
   ],
   "source": [
    ";;; Unit tests for function application\n",
    "(is (= 6 ($eval '(PLUS 1 2 3) {'PLUS +})))\n",
    "(is (= 28 ($eval '(TIMES (PLUS 2 2) (MINUS 10 3)) {'PLUS +, 'TIMES *, 'MINUS -})))\n",
    "(is (= 28 ($eval '(* (+ 2 2) (- 10 3)) {'+ +, '* *, '- -})))\n",
    "(is (= 0 ($eval '(+) {'+ +})))\n",
    "(is (= '(nil) ($eval '(f nil) {'f list})))"
   ]
  },
  {
   "cell_type": "code",
   "execution_count": 8,
   "metadata": {},
   "outputs": [
    {
     "data": {
      "text/plain": [
       "true"
      ]
     },
     "execution_count": 8,
     "metadata": {},
     "output_type": "execute_result"
    }
   ],
   "source": [
    ";;; Unit tests for special form LAMBDA\n",
    "(is (= 6 ($eval '((LAMBDA (X) (+ X 1)) 5) {'+ +})))\n",
    "(is (= 15($eval '((LAMBDA (X Y)\n",
    "                    (* X (+ Y 1)))\n",
    "                  3\n",
    "                  4)\n",
    "                {'+ +, '* *})))\n",
    "(is (= 42 ($eval '((LAMBDA () 42)) {})))\n",
    "(is (= 8 ($eval '(((LAMBDA (X)\n",
    "                     (LAMBDA (Y) \n",
    "                       (+ X Y)))\n",
    "                   5)\n",
    "                  3)\n",
    "                {'+ +})))\n",
    "(is (= 8 ($eval '((LAMBDA (F X) \n",
    "                    (F (F (F X))))\n",
    "                  (LAMBDA (X) (* X 2))\n",
    "                  1)\n",
    "                {'* *})))"
   ]
  },
  {
   "cell_type": "code",
   "execution_count": 9,
   "metadata": {},
   "outputs": [
    {
     "data": {
      "text/plain": [
       "true"
      ]
     },
     "execution_count": 9,
     "metadata": {},
     "output_type": "execute_result"
    }
   ],
   "source": [
    ";;; Unit tests for special form LABEL\n",
    "(is (= '(A A B B C C D D) \n",
    "       ($eval '((LABEL DUP (LAMBDA (X)\n",
    "                             (IF (NULL? X)\n",
    "                               ()\n",
    "                               (CONS (CAR X)\n",
    "                                     (CONS (CAR X)\n",
    "                                           (DUP (CDR X)))))))\n",
    "                (QUOTE (A B C D)))\n",
    "              {'NULL? empty?\n",
    "               'CONS cons\n",
    "               'CAR first\n",
    "               'CDR rest})))\n",
    "(is (= 120 ($eval '((LABEL FACT (LAMBDA (N)\n",
    "                                  (IF (ZERO? N)\n",
    "                                    1\n",
    "                                    (* N (FACT (- N 1))))))\n",
    "                    5)\n",
    "                  {'* *\n",
    "                   'ZERO? zero?\n",
    "                   '- -})))"
   ]
  },
  {
   "cell_type": "markdown",
   "metadata": {},
   "source": [
    "---\n",
    "\n",
    "## Problem 1\n",
    "\n",
    "Add to the Lisp interpreter the `DO` special form, which has the following syntax: \n",
    "\n",
    "$$\n",
    "\\texttt{(DO } \\mathit{exp}_1 \\; \\mathit{exp}_2 \\; \\cdots \\; \\mathit{exp}_n \\texttt{)}\n",
    "$$\n",
    "\n",
    "where every $\\mathit{exp}_i$ is an expression. This construct behaves like its Clojure counterpart of the same name: it evaluates each expression in order from left to right (most likely for their side effects, such as printing), and returns the result of $\\mathit{exp}_n$ (the last expression) or `nil` if there are no expressions.\n",
    "\n",
    "Example:\n",
    "\n",
    "    ($eval '(DO (PRN (+ -2 (+ 1 2)))\n",
    "                (PRN (+ 1 1))\n",
    "                (PRN 3)\n",
    "                (+ 2 2))\n",
    "           {'+ +\n",
    "            'PRN prn})\n",
    "    => 4\n",
    "   \n",
    "Output:\n",
    "\n",
    "    1\n",
    "    2\n",
    "    3"
   ]
  },
  {
   "cell_type": "code",
   "execution_count": 10,
   "metadata": {},
   "outputs": [
    {
     "data": {
      "text/plain": [
       "true"
      ]
     },
     "execution_count": 10,
     "metadata": {},
     "output_type": "execute_result"
    }
   ],
   "source": [
    ";;; Unit tests:\n",
    "(is (nil? ($eval '(DO)\n",
    "                 {})))\n",
    "(is (= 3\n",
    "       ($eval '(DO (+ 1 2))\n",
    "              {'+ +})))\n",
    "(is (= 10\n",
    "       ($eval '(DO (+ 2 5)\n",
    "                   (- 2 5)\n",
    "                   (/ 2 5)\n",
    "                   (* 2 5))\n",
    "              {'+ +\n",
    "               '- -\n",
    "               '/ /\n",
    "               '* *})))\n",
    "(is (= \"7-32/510\"\n",
    "       (with-out-str\n",
    "         ($eval '(DO (PR (+ 2 5))\n",
    "                     (PR (- 2 5))\n",
    "                     (PR (/ 2 5))\n",
    "                     (PR (* 2 5)))\n",
    "                {'PR pr\n",
    "                 '+ +\n",
    "                 '- -\n",
    "                 '/ /\n",
    "                 '* *}))))\n",
    "(is (= (let [nl (System/lineSeparator)]\n",
    "         (str \"1\" nl \"2\" nl \"3\" nl))\n",
    "       (with-out-str\n",
    "         ($eval '(DO (PRN (+ -2 (+ 1 2)))\n",
    "                     (PRN (+ 1 1))\n",
    "                     (PRN 3)\n",
    "                     (+ 2 2))\n",
    "                {'+ +\n",
    "                 'PRN prn}))))\n",
    "(is (= (let [nl (System/lineSeparator)]\n",
    "         (str \"One potato,\" nl\n",
    "              \"two potatoes,\" nl\n",
    "              \"three potatoes,\" nl\n",
    "              \"four.\" nl))\n",
    "       (with-out-str\n",
    "         ($eval '(DO (PRINTLN \"One potato,\")\n",
    "                     (PRINTLN \"two potatoes,\")\n",
    "                     (PRINTLN \"three potatoes,\")\n",
    "                     (PRINTLN \"four.\"))\n",
    "                {'PRINTLN println}))))"
   ]
  },
  {
   "cell_type": "markdown",
   "metadata": {},
   "source": [
    "---\n",
    "\n",
    "## Problem 2\n",
    "\n",
    "Add to the Lisp interpreter the `LET` special form, which has the following syntax: \n",
    "\n",
    "$$\n",
    "\\texttt{(LET}\\texttt{ (}\\mathit{var}\\texttt{ }\\mathit{expr}\\texttt{) } \\mathit{body}\\texttt{)}\n",
    "$$\n",
    "\n",
    "where $\\mathit{var}$ is a symbol, while $\\mathit{expr}$ and $\\mathit{body}$ are expressions. This construct evaluates and returns the result of $\\mathit{body}$ using an extended environment where $\\mathit{var}$ is bound with the result of evaluating $\\mathit{expr}$. In other words, it's equivalent to:\n",
    "\n",
    "$$\n",
    "\\texttt{((LAMBDA}\\texttt{ (}\\mathit{var}\\texttt{) }\\mathit{body}\\texttt{) } \\mathit{expr}\\texttt{)}\n",
    "$$\n",
    "\n",
    "Examples:\n",
    "\n",
    "    ($eval '(LET (x 6)\n",
    "              (* 7 x))\n",
    "           {'* *})\n",
    "    => 42\n",
    "\n",
    "    ($eval '(LET (x (* 2 5))\n",
    "              (LET (y (+ 1 x))\n",
    "                (+ 1 (* y x))))\n",
    "           {'+ +\n",
    "            '* *})\n",
    "    => 111"
   ]
  },
  {
   "cell_type": "code",
   "execution_count": 11,
   "metadata": {},
   "outputs": [
    {
     "data": {
      "text/plain": [
       "true"
      ]
     },
     "execution_count": 11,
     "metadata": {},
     "output_type": "execute_result"
    }
   ],
   "source": [
    ";;; Unit tests:\n",
    "(is (= 7\n",
    "      ($eval '(LET (a 7) a) {})))\n",
    "(is (= 42\n",
    "      ($eval '(LET (x 6)\n",
    "                (* 7 x))\n",
    "        {'* *})))\n",
    "(is (= 111\n",
    "      ($eval '(LET (x (* 2 5))\n",
    "                (LET (y (+ 1 x))\n",
    "                  (+ 1 (* y x))))\n",
    "        {'+ +\n",
    "         '* *})))\n",
    "(is (= 60\n",
    "      ($eval '((LAMBDA (x y)\n",
    "                 (LET (y (+ 1 y))\n",
    "                   (* x y)))\n",
    "                10\n",
    "                5)\n",
    "        {'* *\n",
    "         '+ +})))\n",
    "(is (= '(a b c d)\n",
    "      ($eval '(LET (one (QUOTE (c d)))\n",
    "                (LET (two (CONS (QUOTE b) one))\n",
    "                  (LET (three (CONS (QUOTE a) two))\n",
    "                    three)))\n",
    "        {'CONS cons})))\n",
    "(is (= 8\n",
    "      ($eval '(((LAMBDA (x y)\n",
    "                  (LET (z (LET (r) (* x y)) r)\n",
    "                    (LAMBDA (w)\n",
    "                      (LET (t (+ x (LET (a y) a) z w))\n",
    "                        (LET (t t) t))))) 1 2) 3)\n",
    "        {'* *\n",
    "         '+ +})))"
   ]
  },
  {
   "cell_type": "markdown",
   "metadata": {},
   "source": [
    "---\n",
    "\n",
    "## Problem 3\n",
    "\n",
    "Add to the Lisp interpreter the `DOTIMES` special form, which has the following syntax: \n",
    "\n",
    "$$\n",
    "\\texttt{(DOTIMES}\\texttt{ (}\\mathit{var}\\texttt{ }\\mathit{count}\\texttt{) } \\mathit{body}\\texttt{)}\n",
    "$$\n",
    "\n",
    "where $\\mathit{var}$ is a symbol, while $\\mathit{count}$ and $\\mathit{body}$ are expressions. This construct executes $\\mathit{body}$ (which must perform some side effect operation, typically printing) once for each integer from 0 (inclusive) to $\\mathit{count}$ (exclusive), while binding the variable $\\mathit{var}$ to the integer for the current iteration. This special form always returns `nil`. \n",
    "\n",
    "Example:\n",
    "\n",
    "    ($eval '(DOTIMES (i (+ 2 2))\n",
    "              (PRINTLN \"Line\" i))\n",
    "           {'PRINTLN println, '+ +})\n",
    "    \n",
    "    ($eval '(DOTIMES (x 10)\n",
    "              (PR x))\n",
    "           {'PR pr})\n",
    "   \n",
    "Output:\n",
    "\n",
    "    Line 0\n",
    "    Line 1\n",
    "    Line 2\n",
    "    Line 3\n",
    "\n",
    "    0123456789"
   ]
  },
  {
   "cell_type": "code",
   "execution_count": null,
   "metadata": {},
   "outputs": [],
   "source": [
    ";;; Unit tests:\n",
    "(is (= \"\"\n",
    "       (with-out-str ($eval '(DOTIMES (x 0)\n",
    "                               (PRINTLN x))\n",
    "                            {'PRINTLN println}))))\n",
    "(is (= \"0123456789\"\n",
    "       (with-out-str ($eval '(DOTIMES (x 10)\n",
    "                               (PR x))\n",
    "                            {'PR pr}))))\n",
    "(is (= (let [nl (System/lineSeparator)]\n",
    "         (str \"Line 0\" nl \"Line 1\" nl \"Line 2\" nl \"Line 3\" nl))\n",
    "       (with-out-str ($eval '(DOTIMES (i (+ 2 2))\n",
    "                               (PRINTLN \"Line\" i))\n",
    "                            {'PRINTLN println, '+ +}))))\n",
    "(is (= \"1-4-9-16-25-36-49-64-81-100-\"\n",
    "       (with-out-str ($eval '(DOTIMES (some-var (* 2 5))\n",
    "                               (PRINTF \"%d-\"\n",
    "                                       ((LAMBDA (x) (* x x))\n",
    "                                        (INC some-var))))\n",
    "                            {'PRINTF printf, '* *, 'INC inc}))))\n",
    "(is (= (str \"**************************************************\"\n",
    "            \"**************************************************\")\n",
    "       (with-out-str ($eval '(DOTIMES (mxyzptlk (* 2 2 5 5))\n",
    "                               (PRINT \"*\"))\n",
    "                            {'PRINT print, '* *}))))"
   ]
  },
  {
   "cell_type": "markdown",
   "metadata": {},
   "source": [
    "---\n",
    "\n",
    "## Problem 4\n",
    "\n",
    "Add to the Lisp interpreter the `COND` special form, which has the following syntax: \n",
    "\n",
    "$$\n",
    "\\texttt{(COND }\n",
    "  \\mathit{test}_1 \\; \\mathit{exp}_1 \\;\n",
    "  \\mathit{test}_2 \\; \\mathit{exp}_2 \\;\n",
    "  \\cdots \\;\n",
    "  \\mathit{test}_n \\; \\mathit{exp}_n\n",
    "  \\texttt{)}\n",
    "$$\n",
    "\n",
    "where every $\\mathit{test}_i$ and $\\mathit{exp}_i$ is an expression. This construct, like its Clojure counterpart of the same name, takes a sequence of $\\mathit{test}$/$\\mathit{exp}$ pairs. It evaluates each $\\mathit{test}$ one at a time. If a $\\mathit{test}$ returns logical true (any value not equal to `nil` nor `false`), `COND` evaluates and returns the value of the corresponding $\\mathit{exp}$ and doesn't evaluate any of the other $\\mathit{test}$s or $\\mathit{exp}$s. If there are no tests that evaluate to true, `COND` returns `nil`.\n",
    "\n",
    "You can alternatively think of `COND` as being equivalent to: \n",
    "\n",
    "$$\n",
    "\\texttt{(if } \\mathit{test}_1 \\; \\mathit{exp}_1 \\;\n",
    "\\texttt{(if } \\mathit{test}_2 \\; \\mathit{exp}_2 \\;\n",
    "\\cdots \\;\n",
    "\\texttt{(if } \\mathit{text}_n \\; \\mathit{exp}_n \\; \\texttt{nil)}\n",
    "\\cdots\n",
    "\\texttt{))}\n",
    "$$\n",
    "\n",
    "Example:\n",
    "\n",
    "    ($eval '(COND\n",
    "              (= x 1) (QUOTE one)\n",
    "              (= x 2) (QUOTE two)\n",
    "              (= x 3) (QUOTE three)\n",
    "              (= x 4) (QUOTE four)\n",
    "              true    (QUOTE other))\n",
    "              {'x 3\n",
    "               '= =})\n",
    "    => three"
   ]
  },
  {
   "cell_type": "code",
   "execution_count": null,
   "metadata": {},
   "outputs": [],
   "source": [
    ";;; Unit tests:\n",
    "(is (nil? ($eval '(COND)\n",
    "                 {})))\n",
    "(is (= 2\n",
    "       ($eval '(COND\n",
    "                 1 2)\n",
    "              {})))\n",
    "(is (nil? ($eval '(COND\n",
    "                    false 2)\n",
    "                 {})))\n",
    "(is (= 'three\n",
    "       ($eval '(COND\n",
    "                 (= x 1) (QUOTE one)\n",
    "                 (= x 2) (QUOTE two)\n",
    "                 (= x 3) (QUOTE three)\n",
    "                 (= x 4) (QUOTE four)\n",
    "                 true    (QUOTE other))\n",
    "              {'x 3\n",
    "               '= =})))\n",
    "(is (= 'other\n",
    "       ($eval '(COND\n",
    "                 (= x 1) (QUOTE one)\n",
    "                 (= x 2) (QUOTE two)\n",
    "                 (= x 3) (QUOTE three)\n",
    "                 (= x 4) (QUOTE four)\n",
    "                 true    (QUOTE other))\n",
    "              {'x 5\n",
    "               '= =})))\n",
    "(is (nil? ($eval '(COND\n",
    "                    (= x 1) (QUOTE one)\n",
    "                    (= x 2) (QUOTE two)\n",
    "                    (= x 3) (QUOTE three)\n",
    "                    (= x 4) (QUOTE four))\n",
    "                 {'x 5\n",
    "                  '= =})))\n",
    "(is (= \"Lannister\"\n",
    "       (with-out-str\n",
    "         ($eval '(COND\n",
    "                   (< 4 got) (PRINT \"Targaryen\")\n",
    "                   (< 3 got) (PRINT \"Stark\")\n",
    "                   (< 2 got) (PRINT \"Tully\")\n",
    "                   (< 1 got) (PRINT \"Lannister\")\n",
    "                   true      (PRINT \"Tyrell\"))\n",
    "                {'got 2\n",
    "                 '< <\n",
    "                 'PRINT print}))))"
   ]
  }
 ],
 "metadata": {
  "kernelspec": {
   "display_name": "Clojure (clojupyter=0.3.2=1)",
   "language": "clojure",
   "name": "conda-clojupyter"
  },
  "language_info": {
   "file_extension": ".clj",
   "mimetype": "text/x-clojure",
   "name": "clojure",
   "version": "1.10.1"
  }
 },
 "nbformat": 4,
 "nbformat_minor": 4
}
