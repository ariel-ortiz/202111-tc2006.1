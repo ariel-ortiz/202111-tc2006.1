{
 "cells": [
  {
   "cell_type": "markdown",
   "metadata": {},
   "source": [
    "# Problem Set #10\n",
    "## Tc2006 Programming Languages\n",
    "\n",
    "May 17, 2021.\n",
    "\n",
    "_Authors of this notebook’s solution:_\n",
    "\n",
    "- _Student ID and Name:_\n",
    "- _Student ID and Name:_\n",
    "- _Student ID and Name:_\n",
    "\n",
    "**Instructions:** Write the Clojure code to solve the following problems. Make sure each function passes all the unit tests."
   ]
  },
  {
   "cell_type": "code",
   "execution_count": 1,
   "metadata": {},
   "outputs": [
    {
     "data": {
      "text/plain": [
       "nil"
      ]
     },
     "execution_count": 1,
     "metadata": {},
     "output_type": "execute_result"
    }
   ],
   "source": [
    ";;; External function required for this notebook.\n",
    "(require '[clojure.test :refer [is]])"
   ]
  },
  {
   "cell_type": "markdown",
   "metadata": {},
   "source": [
    "---\n",
    "\n",
    "## Problem 1\n",
    "\n",
    "Write a macro called `$if`. Its purpose is to provide a conditional statement that is syntactically a bit more similar to those found in languages like Pascal or Fortran. It has the following form:\n",
    "\n",
    "> (`$if` $condition$ `:then` $exp_1$ $exp_2$ $\\ldots$ `:else` $exp_3$ $exp_4$ $\\ldots$)\n",
    "\n",
    "It should basically expand to the following conventional Clojure if form:\n",
    "\n",
    "> (`if` $condition$ (`do` $exp_1$ $exp_2$ $\\ldots$) (`do` $exp_3$ $exp_4$ $\\ldots$))\n",
    "\n",
    "Almost everything is optional in the `$if` macro, except $condition$. Also, the `:else` keyword may come before the `:then` keyword. The following unit tests show some legal forms and their results:"
   ]
  },
  {
   "cell_type": "code",
   "execution_count": 2,
   "metadata": {},
   "outputs": [
    {
     "data": {
      "text/plain": [
       "#'user/$if"
      ]
     },
     "execution_count": 2,
     "metadata": {},
     "output_type": "execute_result"
    }
   ],
   "source": [
    "(defn extract-delimited\n",
    "  [start end args]\n",
    "  (->> args\n",
    "       (drop-while #(not= % start))\n",
    "       rest\n",
    "       (take-while #(not= % end))))\n",
    "\n",
    "(defmacro $if\n",
    "  [condition & args]\n",
    "  `(if ~condition \n",
    "     (do ~@(extract-delimited :then :else args))\n",
    "     (do ~@(extract-delimited :else :then args))))"
   ]
  },
  {
   "cell_type": "code",
   "execution_count": 3,
   "metadata": {},
   "outputs": [
    {
     "data": {
      "text/plain": [
       "true"
      ]
     },
     "execution_count": 3,
     "metadata": {},
     "output_type": "execute_result"
    }
   ],
   "source": [
    ";;; Unit tests:\n",
    "(is (= 'ok ($if (> 3 1) :then 'ok :else 'oops)))\n",
    "(is (= 'oops ($if (< 3 1) :then 'ok :else 'oops)))\n",
    "(is (= 'ok ($if (> 3 1) :then 'ok)))\n",
    "(is (= 'ok ($if (< 3 1) :else 'ok)))\n",
    "(is (nil? ($if (> 3 1) :else 'oops)))\n",
    "(is (nil? ($if (> 3 1) :then)))\n",
    "(is (nil? ($if (> 3 1))))\n",
    "(is (= \"Then section.\"\n",
    "       (with-out-str\n",
    "         ($if (> 3 1)\n",
    "              :else (print \"Else section.\") 'oops\n",
    "              :then (print \"Then section.\") 'ok))))\n",
    "(is (= \"Else section.\"\n",
    "       (with-out-str\n",
    "         ($if (< 3 1)\n",
    "              :else (print \"Else section.\") 'oops\n",
    "              :then (print \"Then section.\") 'ok))))"
   ]
  },
  {
   "cell_type": "markdown",
   "metadata": {},
   "source": [
    "---\n",
    "\n",
    "## Problem 2\n",
    "\n",
    "Write a macro called `def-pred`, that takes a $name$, an $arg$ vector, and a $body$ of one or more expressions. The macro should define two predicate functions: a regular one and its negated version. The name of the negated predicate should be the same as $name$ but with a “`not-`” prefix, and its result should be negated using the `not` function. An example:\n",
    "\n",
    "    (def-pred less-than-one? [x] (< x 1)))\n",
    "    \n",
    "macro expands to:\n",
    "\n",
    "    (do (defn less-than-one? [x] (do (< x 1)))\n",
    "        (defn not-less-than-one? [x] (not (do (< x 1)))))"
   ]
  },
  {
   "cell_type": "code",
   "execution_count": null,
   "metadata": {},
   "outputs": [],
   "source": [
    "(defmacro def-pred\n",
    "  []\n",
    "  nil)"
   ]
  },
  {
   "cell_type": "code",
   "execution_count": null,
   "metadata": {},
   "outputs": [],
   "source": [
    ";;; Unit tests:\n",
    "(def-pred less-than-one? [x] (< x 1))\n",
    "(is (less-than-one? 0))\n",
    "(is (not-less-than-one? 1))\n",
    "(is (not (less-than-one? 1)))\n",
    "(is (not (not-less-than-one? 0)))\n",
    "(def-pred plural-1? [s] (= \\s (last s)))\n",
    "(is (plural-1? \"boys\"))\n",
    "(is (not (plural-1? \"girl\")))\n",
    "(is (not (not-plural-1? \"boys\"))\n",
    "(is (not-plural-1? \"girl\")))\n",
    "(def-pred plural-2? [s] (print \"check s in\" s) (= \\s (last s)))\n",
    "(is (= \"check s in boys\")\n",
    "    (with-out-str (plural-2? \"boys\")))\n",
    "(is (= \"check s in girls\")\n",
    "    (with-out-str (plural-2? \"girl\")))\n",
    "(is (= \"check s in boys\")\n",
    "    (with-out-str (not-plural-2? \"boys\")))\n",
    "(is (= \"check s in girls\")\n",
    "    (with-out-str (not-plural-2? \"girl\")))"
   ]
  },
  {
   "cell_type": "markdown",
   "metadata": {},
   "source": [
    "---\n",
    "\n",
    "## Problem 3\n",
    "\n",
    "Write a Clojure macro called `def-many`. This macro allows defining many global bindings in one place. It has the following form:\n",
    "\n",
    "$$\n",
    "(\\texttt{def-many} \\; \\textit{var}_1 \\; \\textit{expr}_1 \\; \\textit{var}_2 \\; \\textit{expr}_2 \\; \\ldots \\; \\textit{var}_n \\; \\textit{expr}_n)\n",
    "$$\n",
    "\n",
    "Where every $\\textit{var}_i$ is a symbol and every $\\textit{expr}_i$ is an arbitrary expression. The macro evaluates $\\textit{expr}_1$ and binds the result to $\\textit{var}_1$ (using the `def` special form), then evaluates $\\textit{expr}_2$ and binds the result to $\\textit{var}_2$, and so on.\n",
    "\n",
    "The macro expands to the following form:\n",
    "\n",
    "$$\n",
    "(\\texttt{do} \\; (\\texttt{def} \\; \\textit{var}_1 \\; \\textit{expr}_1) \\;\n",
    "  (\\texttt{def} \\; \\textit{var}_2 \\; \\textit{expr}_2)\n",
    "  \\cdots\n",
    "  (\\texttt{def} \\; \\textit{var}_n \\; \\textit{expr}_n))\n",
    "$$"
   ]
  },
  {
   "cell_type": "code",
   "execution_count": null,
   "metadata": {},
   "outputs": [],
   "source": [
    "(defmacro def-many\n",
    "  []\n",
    "  nil)"
   ]
  },
  {
   "cell_type": "code",
   "execution_count": null,
   "metadata": {},
   "outputs": [],
   "source": [
    ";;; Unit tests:\n",
    "(def-many)\n",
    "(def-many x (* (+ 3 3) (/ 21 3)))\n",
    "(is (= x 42))\n",
    "(def-many a (+ 1 2)\n",
    "          b (* 2 a)\n",
    "          c (/ (inc b) a))\n",
    "(is (= 34/3 (+ a b c)))\n",
    "(def-many alpha \"beta\"\n",
    "          gamma \"delta\"\n",
    "          epsilon \"zeta\"\n",
    "          eta \"theta\"\n",
    "          iota \"kappa\")\n",
    "(is (= \"betadeltazetathetakappa\"\n",
    "       (str alpha gamma epsilon eta iota)))"
   ]
  }
 ],
 "metadata": {
  "kernelspec": {
   "display_name": "Clojure (clojupyter=0.3.2=1)",
   "language": "clojure",
   "name": "conda-clojupyter"
  },
  "language_info": {
   "file_extension": ".clj",
   "mimetype": "text/x-clojure",
   "name": "clojure",
   "version": "1.10.1"
  }
 },
 "nbformat": 4,
 "nbformat_minor": 4
}
