{
 "cells": [
  {
   "cell_type": "markdown",
   "metadata": {},
   "source": [
    "# Problem Set #9\n",
    "\n",
    "## Tc2006 Programming Languages\n",
    "\n",
    "May 10, 2021.\n",
    "\n",
    "_Authors of this notebook’s solution:_\n",
    "\n",
    "- _Student ID and Name:_\n",
    "- _Student ID and Name:_\n",
    "- _Student ID and Name:_\n",
    "\n",
    "**Instructions:** Write the Clojure code to solve the following problems. Make sure each function passes all the unit tests."
   ]
  },
  {
   "cell_type": "code",
   "execution_count": null,
   "metadata": {},
   "outputs": [],
   "source": [
    ";;; External function required for this notebook.\n",
    "(require '[clojure.test :refer [is]])"
   ]
  },
  {
   "cell_type": "markdown",
   "metadata": {},
   "source": [
    "---\n",
    "\n",
    "## Problem 1\n",
    "\n",
    "The `$comment` macro takes any number of arguments, evaluates nothing and always returns `nil`. Thus, anything contained within the `$comment` macro is ignored, treating it basically as if it was a comment."
   ]
  },
  {
   "cell_type": "code",
   "execution_count": null,
   "metadata": {},
   "outputs": [],
   "source": [
    "(defmacro $comment\n",
    "  []\n",
    "  nil)"
   ]
  },
  {
   "cell_type": "code",
   "execution_count": null,
   "metadata": {},
   "outputs": [],
   "source": [
    ";;; Unit tests:\n",
    "(is (nil? ($comment 1 2 3)))\n",
    "(is (nil? ($comment)))\n",
    "(is (= \"\"\n",
    "       (with-out-str ($comment (println 1)\n",
    "                               (println 2)\n",
    "                               (println 3)))))"
   ]
  },
  {
   "cell_type": "markdown",
   "metadata": {},
   "source": [
    "---\n",
    "\n",
    "## Problem 2\n",
    "\n",
    "This is the documentation for Clojure’s `and` macro:\n",
    "\n",
    "    Macro: and\n",
    "    \n",
    "    Usage: (and)\n",
    "           (and x)\n",
    "           (and x & next)\n",
    "    \n",
    "    Evaluates its expression one at a time, from left to right. If a form\n",
    "    returns a logical false (nil or false), it returns that value and\n",
    "    doesn’t evaluate any of the other expressions, otherwise it returns\n",
    "    the value of the last expression. (and) returns true.\n",
    "\n",
    "Write a macro called `$and` that works as described above. Make sure that any expression gets evaluated at most once. You may not use Clojure’s  `and` macro."
   ]
  },
  {
   "cell_type": "code",
   "execution_count": null,
   "metadata": {},
   "outputs": [],
   "source": [
    "(defmacro $and\n",
    "  []\n",
    "  nil)"
   ]
  },
  {
   "cell_type": "code",
   "execution_count": null,
   "metadata": {},
   "outputs": [],
   "source": [
    ";;; Unit tests:\n",
    "(is (true? ($and)))\n",
    "(is (= 6 ($and 1 2 3 4 5 6)))\n",
    "(is (nil? ($and 1 2 nil 4 5 6)))\n",
    "(is (false? ($and 1 2 3 4 false 6)))\n",
    "(is (= \"1234\"\n",
    "       (with-out-str\n",
    "         ($and (do (print 1) 1)\n",
    "               (do (print 2) 2)\n",
    "               (do (print 3) 3)\n",
    "               (do (print 4) 4)))))\n",
    "(is (= \"12\"\n",
    "       (with-out-str\n",
    "         ($and (do (print 1) 1)\n",
    "               (do (print 2) nil)\n",
    "               (do (print 3) 3)\n",
    "               (do (print 4) 4)))))"
   ]
  },
  {
   "cell_type": "markdown",
   "metadata": {},
   "source": [
    "---\n",
    "\n",
    "## Problem 3\n",
    "\n",
    "This is the documentation for Clojure’s `or` macro:\n",
    "\n",
    "    Macro: or\n",
    "    \n",
    "    Usage: (or)\n",
    "           (or x)\n",
    "           (or x & next)\n",
    "    \n",
    "    Evaluates its expressions one at a time, from left to right. If a form \n",
    "    returns a logical true value, it returns that value and doesn’t evaluate \n",
    "    any of the other expressions, otherwise it returns the value of the last \n",
    "    expression. (or) returns nil. \n",
    "\n",
    "Write a macro called `$or` that works as described above. Make sure that any expression gets evaluated at most once. You may not use Clojure’s  `or` macro."
   ]
  },
  {
   "cell_type": "code",
   "execution_count": null,
   "metadata": {},
   "outputs": [],
   "source": [
    "(defmacro $or\n",
    "  []\n",
    "  nil)"
   ]
  },
  {
   "cell_type": "code",
   "execution_count": null,
   "metadata": {},
   "outputs": [],
   "source": [
    ";;; Unit tests:\n",
    "(is (nil? ($or)))\n",
    "(is (= 1 ($or 1 2 3 4 5 6)))\n",
    "(is (= 6 ($or nil false nil false nil 6)))\n",
    "(is (false? ($or nil false nil false nil false)))\n",
    "(is (nil? ($or nil false nil false nil nil)))\n",
    "(is (= \"1234\"\n",
    "       (with-out-str\n",
    "         ($or (do (print 1) false)\n",
    "              (do (print 2) nil)\n",
    "              (do (print 3) false)\n",
    "              (do (print 4) nil)))))\n",
    "(is (= \"12\"\n",
    "       (with-out-str\n",
    "         ($or (do (print 1) nil)\n",
    "              (do (print 2) 2)\n",
    "              (do (print 3) 3)\n",
    "              (do (print 4) 4)))))"
   ]
  },
  {
   "cell_type": "markdown",
   "metadata": {},
   "source": [
    "---\n",
    "\n",
    "## Problem 4\n",
    "\n",
    "Write a macro called `do-loop` that implements a [post-test loop](http://en.wikipedia.org/wiki/Do_while_loop) control statement. It must combine the functionality of C’s `do-while` statement and Pascal’s `repeat-until` statement.\n",
    "\n",
    "This construct consists of a body (one or more expressions, presumably with side effects) and a final conditional form prefaced with a `:while` or `:until` keyword. First, the expressions in the body are evaluated sequentially, and then the condition is evaluated. If the final form uses a `:while` keyword, the body of the loop is repeated while the condition holds true. On the other hand, if the final form uses an `:until` keyword, the body of the loop is repeated while the condition holds false (or in other words, the loop terminates when the condition is true). Returns `nil`.\n",
    "\n",
    "Example:\n",
    "\n",
    "    (def i (atom 0))\n",
    "    (do-loop\n",
    "      (println @i)\n",
    "      (swap! i inc)\n",
    "      (:until (= @i 5)))\n",
    "    => nil\n",
    "  \n",
    "Output:\n",
    "\n",
    "    0\n",
    "    1\n",
    "    2\n",
    "    3\n",
    "    4"
   ]
  },
  {
   "cell_type": "code",
   "execution_count": null,
   "metadata": {},
   "outputs": [],
   "source": [
    "(defmacro do-loop\n",
    "  []\n",
    "  nil)"
   ]
  },
  {
   "cell_type": "code",
   "execution_count": null,
   "metadata": {},
   "outputs": [],
   "source": [
    ";;; Unit tests:\n",
    "(is (= \"01234\"\n",
    "       (with-out-str\n",
    "         (let [i (atom 0)]\n",
    "           (do-loop\n",
    "             (print @i)\n",
    "             (swap! i inc)\n",
    "             (:until (= @i 5)))))))\n",
    "(is (= \"54321\"\n",
    "       (with-out-str\n",
    "         (let [j (atom 5)]\n",
    "           (do-loop\n",
    "             (print @j)\n",
    "             (swap! j dec)\n",
    "             (:while (> @j 0)))))))\n",
    "(is (= \"0\"\n",
    "       (with-out-str\n",
    "         (let [x (atom 0)]\n",
    "           (do-loop\n",
    "             (print @x)\n",
    "             (swap! x inc)\n",
    "             (:until (pos? @x)))))))\n",
    "(is (= \"5\"\n",
    "       (with-out-str\n",
    "         (let [w (atom 5)]\n",
    "           (do-loop\n",
    "             (print @w)\n",
    "             (swap! w #(* % 2))\n",
    "             (:while (< @w 10)))))))"
   ]
  },
  {
   "cell_type": "markdown",
   "metadata": {},
   "source": [
    "---\n",
    "\n",
    "## Problem 5\n",
    "\n",
    "Write a Clojure macro called `def-vars` that receives a symbol `var-name` and zero or more expressions. This macro defines as many global variables as the provided number of expressions. The value of `var-name` is the name prefix for all these variables. The suffix is “0” for the first variable name, which is initialized with the first expression. The next variable name has a “1” suffix and is initialized with the second expression, and so on with all the remaining variables. For example, the expression:\n",
    "\n",
    "    (def-vars x (+ 1 2) 3 (* 2 2))\n",
    "    \n",
    "should macroexpand to:\n",
    "\n",
    "    (do\n",
    "      (def x0 (+ 1 2))\n",
    "      (def x1 3)\n",
    "      (def x2 (* 2 2)))\n",
    "      \n",
    "When the macro is evaluated, variables `x0`, `x1`, and `x2` should be defined. Thus:\n",
    "\n",
    "    (+ x0 x1 x2)\n",
    "    => 10\n",
    "    \n",
    "These are some functions you might find usefull:\n",
    "\n",
    "    (str 'foo 123)\n",
    "    => \"foo123\"\n",
    "    \n",
    "    (symbol \"foo123\")\n",
    "    => foo123"
   ]
  },
  {
   "cell_type": "code",
   "execution_count": null,
   "metadata": {},
   "outputs": [],
   "source": [
    "(defmacro def-vars\n",
    "  []\n",
    "  nil)"
   ]
  },
  {
   "cell_type": "code",
   "execution_count": null,
   "metadata": {},
   "outputs": [],
   "source": [
    ";;; Unit tests:\n",
    "(is (nil? (def-vars x)))\n",
    "(is (= 0 (do (def-vars zero (- (* 2 2) (+ 3 1)))\n",
    "             zero0)))\n",
    "(is (= 10 (do (def-vars x (+ 1 2) 3 (* 2 2))\n",
    "              (+ x0 x1 x2))))\n",
    "(is (= \"onetwothreefourfive\"\n",
    "       (do (def-vars this-var- \"one\" \"two\" \"three\" \"four\" \"five\")\n",
    "           (str this-var-0 this-var-1 this-var-2 this-var-3 this-var-4))))\n",
    "(is (= [5 6 2]\n",
    "       (do (def-vars fun first rest conj)\n",
    "           (fun2 [5 6] (fun0 (fun1 [1 2 3 4]))))))"
   ]
  }
 ],
 "metadata": {
  "kernelspec": {
   "display_name": "Clojure (clojupyter=0.3.2=1)",
   "language": "clojure",
   "name": "conda-clojupyter"
  },
  "language_info": {
   "file_extension": ".clj",
   "mimetype": "text/x-clojure",
   "name": "clojure",
   "version": "1.10.1"
  }
 },
 "nbformat": 4,
 "nbformat_minor": 4
}
